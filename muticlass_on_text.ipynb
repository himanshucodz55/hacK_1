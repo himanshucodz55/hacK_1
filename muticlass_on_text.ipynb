{
 "cells": [
  {
   "cell_type": "code",
   "execution_count": 2,
   "metadata": {},
   "outputs": [
    {
     "data": {
      "text/html": [
       "<div>\n",
       "<style scoped>\n",
       "    .dataframe tbody tr th:only-of-type {\n",
       "        vertical-align: middle;\n",
       "    }\n",
       "\n",
       "    .dataframe tbody tr th {\n",
       "        vertical-align: top;\n",
       "    }\n",
       "\n",
       "    .dataframe thead th {\n",
       "        text-align: right;\n",
       "    }\n",
       "</style>\n",
       "<table border=\"1\" class=\"dataframe\">\n",
       "  <thead>\n",
       "    <tr style=\"text-align: right;\">\n",
       "      <th></th>\n",
       "      <th>video_id</th>\n",
       "      <th>category_id</th>\n",
       "      <th>description</th>\n",
       "    </tr>\n",
       "  </thead>\n",
       "  <tbody>\n",
       "    <tr>\n",
       "      <th>0</th>\n",
       "      <td>7NcVNt7zQJM</td>\n",
       "      <td>10.0</td>\n",
       "      <td>Music video by Luke Bryan performing Out Of No...</td>\n",
       "    </tr>\n",
       "    <tr>\n",
       "      <th>1</th>\n",
       "      <td>hNsd-m30m2E</td>\n",
       "      <td>24.0</td>\n",
       "      <td>thanks for watching!!! happy holidays everyone...</td>\n",
       "    </tr>\n",
       "    <tr>\n",
       "      <th>2</th>\n",
       "      <td>yLdav-8af6g</td>\n",
       "      <td>1.0</td>\n",
       "      <td>Marcus and Adam build their own custom lightsa...</td>\n",
       "    </tr>\n",
       "    <tr>\n",
       "      <th>3</th>\n",
       "      <td>Ii3Rr4-Pxow</td>\n",
       "      <td>26.0</td>\n",
       "      <td>Make sure you subscribe to my channel and hit ...</td>\n",
       "    </tr>\n",
       "    <tr>\n",
       "      <th>4</th>\n",
       "      <td>515lLZS082U</td>\n",
       "      <td>24.0</td>\n",
       "      <td>It's a riff-off pitches! Get Tix: http://unvrs...</td>\n",
       "    </tr>\n",
       "  </tbody>\n",
       "</table>\n",
       "</div>"
      ],
      "text/plain": [
       "      video_id  category_id                                        description\n",
       "0  7NcVNt7zQJM         10.0  Music video by Luke Bryan performing Out Of No...\n",
       "1  hNsd-m30m2E         24.0  thanks for watching!!! happy holidays everyone...\n",
       "2  yLdav-8af6g          1.0  Marcus and Adam build their own custom lightsa...\n",
       "3  Ii3Rr4-Pxow         26.0  Make sure you subscribe to my channel and hit ...\n",
       "4  515lLZS082U         24.0  It's a riff-off pitches! Get Tix: http://unvrs..."
      ]
     },
     "execution_count": 2,
     "metadata": {},
     "output_type": "execute_result"
    }
   ],
   "source": [
    "import pandas as pd\n",
    "import numpy as np\n",
    "\n",
    "df = pd.read_csv('./train.csv')\n",
    "test=pd.read_csv('./test.csv')\n",
    "df.head()"
   ]
  },
  {
   "cell_type": "code",
   "execution_count": 3,
   "metadata": {},
   "outputs": [
    {
     "data": {
      "text/html": [
       "<div>\n",
       "<style scoped>\n",
       "    .dataframe tbody tr th:only-of-type {\n",
       "        vertical-align: middle;\n",
       "    }\n",
       "\n",
       "    .dataframe tbody tr th {\n",
       "        vertical-align: top;\n",
       "    }\n",
       "\n",
       "    .dataframe thead th {\n",
       "        text-align: right;\n",
       "    }\n",
       "</style>\n",
       "<table border=\"1\" class=\"dataframe\">\n",
       "  <thead>\n",
       "    <tr style=\"text-align: right;\">\n",
       "      <th></th>\n",
       "      <th>video_id</th>\n",
       "      <th>description</th>\n",
       "    </tr>\n",
       "  </thead>\n",
       "  <tbody>\n",
       "    <tr>\n",
       "      <th>0</th>\n",
       "      <td>2kyS6SvSYSE</td>\n",
       "      <td>SHANTELL'S CHANNEL - https://www.youtube.com/s...</td>\n",
       "    </tr>\n",
       "    <tr>\n",
       "      <th>1</th>\n",
       "      <td>_6lGaYh71g4</td>\n",
       "      <td>Balmuda: the Toaster is a Japanese invention t...</td>\n",
       "    </tr>\n",
       "    <tr>\n",
       "      <th>2</th>\n",
       "      <td>X_tYrnv_o6A</td>\n",
       "      <td>These are the molecular machines inside your b...</td>\n",
       "    </tr>\n",
       "    <tr>\n",
       "      <th>3</th>\n",
       "      <td>BEcs3TL8DII</td>\n",
       "      <td>LeBron James is 'obviously' the NBA MVP this s...</td>\n",
       "    </tr>\n",
       "    <tr>\n",
       "      <th>4</th>\n",
       "      <td>26qOMpjicGs</td>\n",
       "      <td>Lol - Subscribe to my new channel that will co...</td>\n",
       "    </tr>\n",
       "  </tbody>\n",
       "</table>\n",
       "</div>"
      ],
      "text/plain": [
       "      video_id                                        description\n",
       "0  2kyS6SvSYSE  SHANTELL'S CHANNEL - https://www.youtube.com/s...\n",
       "1  _6lGaYh71g4  Balmuda: the Toaster is a Japanese invention t...\n",
       "2  X_tYrnv_o6A  These are the molecular machines inside your b...\n",
       "3  BEcs3TL8DII  LeBron James is 'obviously' the NBA MVP this s...\n",
       "4  26qOMpjicGs  Lol - Subscribe to my new channel that will co..."
      ]
     },
     "execution_count": 3,
     "metadata": {},
     "output_type": "execute_result"
    }
   ],
   "source": [
    "test.head()"
   ]
  },
  {
   "cell_type": "code",
   "execution_count": 4,
   "metadata": {},
   "outputs": [
    {
     "data": {
      "text/plain": [
       "(3471, 3)"
      ]
     },
     "execution_count": 4,
     "metadata": {},
     "output_type": "execute_result"
    }
   ],
   "source": [
    "df.shape"
   ]
  },
  {
   "cell_type": "code",
   "execution_count": 5,
   "metadata": {},
   "outputs": [],
   "source": [
    "df = df[pd.notnull(df['description'])]"
   ]
  },
  {
   "cell_type": "code",
   "execution_count": 6,
   "metadata": {},
   "outputs": [
    {
     "data": {
      "text/html": [
       "<div>\n",
       "<style scoped>\n",
       "    .dataframe tbody tr th:only-of-type {\n",
       "        vertical-align: middle;\n",
       "    }\n",
       "\n",
       "    .dataframe tbody tr th {\n",
       "        vertical-align: top;\n",
       "    }\n",
       "\n",
       "    .dataframe thead th {\n",
       "        text-align: right;\n",
       "    }\n",
       "</style>\n",
       "<table border=\"1\" class=\"dataframe\">\n",
       "  <thead>\n",
       "    <tr style=\"text-align: right;\">\n",
       "      <th></th>\n",
       "      <th>video_id</th>\n",
       "      <th>category_id</th>\n",
       "      <th>description</th>\n",
       "    </tr>\n",
       "  </thead>\n",
       "  <tbody>\n",
       "    <tr>\n",
       "      <th>0</th>\n",
       "      <td>7NcVNt7zQJM</td>\n",
       "      <td>10.0</td>\n",
       "      <td>Music video by Luke Bryan performing Out Of No...</td>\n",
       "    </tr>\n",
       "    <tr>\n",
       "      <th>1</th>\n",
       "      <td>hNsd-m30m2E</td>\n",
       "      <td>24.0</td>\n",
       "      <td>thanks for watching!!! happy holidays everyone...</td>\n",
       "    </tr>\n",
       "    <tr>\n",
       "      <th>2</th>\n",
       "      <td>yLdav-8af6g</td>\n",
       "      <td>1.0</td>\n",
       "      <td>Marcus and Adam build their own custom lightsa...</td>\n",
       "    </tr>\n",
       "    <tr>\n",
       "      <th>3</th>\n",
       "      <td>Ii3Rr4-Pxow</td>\n",
       "      <td>26.0</td>\n",
       "      <td>Make sure you subscribe to my channel and hit ...</td>\n",
       "    </tr>\n",
       "    <tr>\n",
       "      <th>4</th>\n",
       "      <td>515lLZS082U</td>\n",
       "      <td>24.0</td>\n",
       "      <td>It's a riff-off pitches! Get Tix: http://unvrs...</td>\n",
       "    </tr>\n",
       "  </tbody>\n",
       "</table>\n",
       "</div>"
      ],
      "text/plain": [
       "      video_id  category_id                                        description\n",
       "0  7NcVNt7zQJM         10.0  Music video by Luke Bryan performing Out Of No...\n",
       "1  hNsd-m30m2E         24.0  thanks for watching!!! happy holidays everyone...\n",
       "2  yLdav-8af6g          1.0  Marcus and Adam build their own custom lightsa...\n",
       "3  Ii3Rr4-Pxow         26.0  Make sure you subscribe to my channel and hit ...\n",
       "4  515lLZS082U         24.0  It's a riff-off pitches! Get Tix: http://unvrs..."
      ]
     },
     "execution_count": 6,
     "metadata": {},
     "output_type": "execute_result"
    }
   ],
   "source": [
    "df.head()"
   ]
  },
  {
   "cell_type": "code",
   "execution_count": 7,
   "metadata": {},
   "outputs": [
    {
     "data": {
      "text/plain": [
       "(3471, 3)"
      ]
     },
     "execution_count": 7,
     "metadata": {},
     "output_type": "execute_result"
    }
   ],
   "source": [
    "\n",
    "df.shape\n"
   ]
  },
  {
   "cell_type": "code",
   "execution_count": 8,
   "metadata": {},
   "outputs": [],
   "source": [
    "X=df['description']\n",
    "y=df['category_id']"
   ]
  },
  {
   "cell_type": "code",
   "execution_count": 9,
   "metadata": {},
   "outputs": [
    {
     "data": {
      "text/plain": [
       "(3471,)"
      ]
     },
     "execution_count": 9,
     "metadata": {},
     "output_type": "execute_result"
    }
   ],
   "source": [
    "X.shape"
   ]
  },
  {
   "cell_type": "code",
   "execution_count": null,
   "metadata": {},
   "outputs": [],
   "source": []
  },
  {
   "cell_type": "code",
   "execution_count": null,
   "metadata": {},
   "outputs": [],
   "source": []
  },
  {
   "cell_type": "code",
   "execution_count": 10,
   "metadata": {},
   "outputs": [
    {
     "data": {
      "text/plain": [
       "(3471, 170139)"
      ]
     },
     "execution_count": 10,
     "metadata": {},
     "output_type": "execute_result"
    }
   ],
   "source": [
    "from sklearn.feature_extraction.text import TfidfVectorizer\n",
    "tfidf = TfidfVectorizer(sublinear_tf=True, min_df=1, norm='l2', encoding='latin-1', ngram_range=(1, 2), stop_words='english')\n",
    "features = tfidf.fit_transform(df.description).toarray()\n",
    "labels = df.category_id\n",
    "features.shape"
   ]
  },
  {
   "cell_type": "code",
   "execution_count": 11,
   "metadata": {},
   "outputs": [
    {
     "ename": "NameError",
     "evalue": "name 'category_to_id' is not defined",
     "output_type": "error",
     "traceback": [
      "\u001b[0;31m---------------------------------------------------------------------------\u001b[0m",
      "\u001b[0;31mNameError\u001b[0m                                 Traceback (most recent call last)",
      "\u001b[0;32m<ipython-input-11-fd4f12992331>\u001b[0m in \u001b[0;36m<module>\u001b[0;34m\u001b[0m\n\u001b[1;32m      2\u001b[0m \u001b[0;32mimport\u001b[0m \u001b[0mnumpy\u001b[0m \u001b[0;32mas\u001b[0m \u001b[0mnp\u001b[0m\u001b[0;34m\u001b[0m\u001b[0;34m\u001b[0m\u001b[0m\n\u001b[1;32m      3\u001b[0m \u001b[0mN\u001b[0m \u001b[0;34m=\u001b[0m \u001b[0;36m2\u001b[0m\u001b[0;34m\u001b[0m\u001b[0;34m\u001b[0m\u001b[0m\n\u001b[0;32m----> 4\u001b[0;31m \u001b[0;32mfor\u001b[0m \u001b[0mProduct\u001b[0m\u001b[0;34m,\u001b[0m \u001b[0mcategory_id\u001b[0m \u001b[0;32min\u001b[0m \u001b[0msorted\u001b[0m\u001b[0;34m(\u001b[0m\u001b[0mcategory_to_id\u001b[0m\u001b[0;34m.\u001b[0m\u001b[0mitems\u001b[0m\u001b[0;34m(\u001b[0m\u001b[0;34m)\u001b[0m\u001b[0;34m)\u001b[0m\u001b[0;34m:\u001b[0m\u001b[0;34m\u001b[0m\u001b[0;34m\u001b[0m\u001b[0m\n\u001b[0m\u001b[1;32m      5\u001b[0m   \u001b[0mfeatures_chi2\u001b[0m \u001b[0;34m=\u001b[0m \u001b[0mchi2\u001b[0m\u001b[0;34m(\u001b[0m\u001b[0mfeatures\u001b[0m\u001b[0;34m,\u001b[0m \u001b[0mlabels\u001b[0m \u001b[0;34m==\u001b[0m \u001b[0mcategory_id\u001b[0m\u001b[0;34m)\u001b[0m\u001b[0;34m\u001b[0m\u001b[0;34m\u001b[0m\u001b[0m\n\u001b[1;32m      6\u001b[0m   \u001b[0mindices\u001b[0m \u001b[0;34m=\u001b[0m \u001b[0mnp\u001b[0m\u001b[0;34m.\u001b[0m\u001b[0margsort\u001b[0m\u001b[0;34m(\u001b[0m\u001b[0mfeatures_chi2\u001b[0m\u001b[0;34m[\u001b[0m\u001b[0;36m0\u001b[0m\u001b[0;34m]\u001b[0m\u001b[0;34m)\u001b[0m\u001b[0;34m\u001b[0m\u001b[0;34m\u001b[0m\u001b[0m\n",
      "\u001b[0;31mNameError\u001b[0m: name 'category_to_id' is not defined"
     ]
    }
   ],
   "source": [
    "from sklearn.feature_selection import chi2\n",
    "import numpy as np\n",
    "N = 2\n",
    "for Product, category_id in sorted(category_to_id.items()):\n",
    "  features_chi2 = chi2(features, labels == category_id)\n",
    "  indices = np.argsort(features_chi2[0])\n",
    "  feature_names = np.array(tfidf.get_feature_names())[indices]\n",
    "  unigrams = [v for v in feature_names if len(v.split(' ')) == 1]\n",
    "  bigrams = [v for v in feature_names if len(v.split(' ')) == 2]\n",
    "  print(\"# '{}':\".format(Product))\n",
    "  print(\"  . Most correlated unigrams:\\n. {}\".format('\\n. '.join(unigrams[-N:])))\n",
    "  print(\"  . Most correlated bigrams:\\n. {}\".format('\\n. '.join(bigrams[-N:])))\n"
   ]
  },
  {
   "cell_type": "code",
   "execution_count": 12,
   "metadata": {},
   "outputs": [],
   "source": [
    "from sklearn.model_selection import train_test_split\n",
    "from sklearn.feature_extraction.text import CountVectorizer\n",
    "from sklearn.feature_extraction.text import TfidfTransformer\n",
    "from sklearn.naive_bayes import MultinomialNB\n",
    "X_train, X_test, y_train, y_test = train_test_split(df['description'], df['category_id'], random_state = 0)\n",
    "count_vect = CountVectorizer()\n",
    "X_train_counts = count_vect.fit_transform(X_train)\n",
    "tfidf_transformer = TfidfTransformer()\n",
    "X_train_tfidf = tfidf_transformer.fit_transform(X_train_counts)\n",
    "clf = MultinomialNB().fit(X_train_tfidf, y_train)"
   ]
  },
  {
   "cell_type": "code",
   "execution_count": 13,
   "metadata": {},
   "outputs": [
    {
     "name": "stdout",
     "output_type": "stream",
     "text": [
      "[24.]\n"
     ]
    }
   ],
   "source": [
    "print(clf.predict(count_vect.transform([X_test[2831]])))"
   ]
  },
  {
   "cell_type": "code",
   "execution_count": 14,
   "metadata": {},
   "outputs": [
    {
     "data": {
      "text/plain": [
       "196     Build your website for 10% off over at http://...\n",
       "2213    Source: https://www.youtube.com/watch?v=sAooq7...\n",
       "1784    iMac Pro. Turns out it's not a trap. It's pret...\n",
       "1129    Pit Bull Brings Her Puppies To Her Foster Mom ...\n",
       "2515    Download & Stream “Change (feat. James Taylor)...\n",
       "                              ...                        \n",
       "1462    Soooo that happened...\\n\\nFLIPPER- https://www...\n",
       "2043    Learn from over 17,000 courses with Skillshare...\n",
       "981     Charles Barkley and Shaquille O'Neal find it f...\n",
       "3313    Bon Appétit Test Kitchen Manager Brad Leone is...\n",
       "2831    This is a demonstration video of crimping the ...\n",
       "Name: description, Length: 868, dtype: object"
      ]
     },
     "execution_count": 14,
     "metadata": {},
     "output_type": "execute_result"
    }
   ],
   "source": [
    "X_test"
   ]
  },
  {
   "cell_type": "code",
   "execution_count": 15,
   "metadata": {},
   "outputs": [
    {
     "data": {
      "text/plain": [
       "28.0"
      ]
     },
     "execution_count": 15,
     "metadata": {},
     "output_type": "execute_result"
    }
   ],
   "source": [
    "y_test[2831]"
   ]
  },
  {
   "cell_type": "code",
   "execution_count": null,
   "metadata": {},
   "outputs": [
    {
     "name": "stderr",
     "output_type": "stream",
     "text": [
      "/home/himanshu/anaconda3/lib/python3.8/site-packages/sklearn/model_selection/_split.py:666: UserWarning: The least populated class in y has only 4 members, which is less than n_splits=5.\n",
      "  warnings.warn((\"The least populated class in y has only %d\"\n"
     ]
    }
   ],
   "source": [
    "from sklearn.linear_model import LogisticRegression\n",
    "from sklearn.ensemble import RandomForestClassifier\n",
    "from sklearn.svm import LinearSVC\n",
    "from sklearn.model_selection import cross_val_score\n",
    "models = [\n",
    "#     RandomForestClassifier(n_estimators=200, max_depth=3, random_state=0),\n",
    "    LinearSVC(),\n",
    "    MultinomialNB(),\n",
    "#     LogisticRegression(random_state=0),\n",
    "]\n",
    "CV = 5\n",
    "cv_df = pd.DataFrame(index=range(CV * len(models)))\n",
    "entries = []\n",
    "for model in models:\n",
    "  model_name = model.__class__.__name__\n",
    "  accuracies = cross_val_score(model, features, labels, scoring='accuracy', cv=CV)\n",
    "  for fold_idx, accuracy in enumerate(accuracies):\n",
    "    entries.append((model_name, fold_idx, accuracy))\n",
    "cv_df = pd.DataFrame(entries, columns=['model_name', 'fold_idx', 'accuracy'])\n",
    "import seaborn as sns\n",
    "sns.boxplot(x='model_name', y='accuracy', data=cv_df)\n",
    "sns.stripplot(x='model_name', y='accuracy', data=cv_df, \n",
    "              size=8, jitter=True, edgecolor=\"gray\", linewidth=2)\n",
    "plt.show()"
   ]
  },
  {
   "cell_type": "code",
   "execution_count": null,
   "metadata": {},
   "outputs": [],
   "source": []
  },
  {
   "cell_type": "code",
   "execution_count": 31,
   "metadata": {},
   "outputs": [
    {
     "data": {
      "text/plain": [
       "'3.8.3 (default, Jul  2 2020, 16:21:59) \\n[GCC 7.3.0]'"
      ]
     },
     "execution_count": 31,
     "metadata": {},
     "output_type": "execute_result"
    }
   ],
   "source": []
  },
  {
   "cell_type": "code",
   "execution_count": 2,
   "metadata": {},
   "outputs": [
    {
     "name": "stdout",
     "output_type": "stream",
     "text": [
      "      video_id  category_id                                        description\n",
      "0  7NcVNt7zQJM         10.0  Music video by Luke Bryan performing Out Of No...\n",
      "1  hNsd-m30m2E         24.0  thanks for watching!!! happy holidays everyone...\n",
      "2  yLdav-8af6g          1.0  Marcus and Adam build their own custom lightsa...\n",
      "3  Ii3Rr4-Pxow         26.0  Make sure you subscribe to my channel and hit ...\n",
      "4  515lLZS082U         24.0  It's a riff-off pitches! Get Tix: http://unvrs...\n",
      "5  3fArI2PZBUo         22.0  40cm of fresh snow meets a 4 month old corgi p...\n",
      "6  cyhU06cXfeU         26.0  Are you obsessed with Christmas? Here are 10 w...\n",
      "7  F3eSaEHSCu0         24.0  🎬 LIVE | EN DIRECTO | EN DIRECTE\\n💪 Warm-up. C...\n",
      "8  ZrhKHytNLqY         25.0  During the Grammys, singer and actress Janelle...\n",
      "9  IGScS6YgzBY         23.0  Dish Nation is a FOX syndicated TV show that d...\n",
      "394948\n"
     ]
    }
   ],
   "source": [
    "import logging\n",
    "import pandas as pd\n",
    "import numpy as np\n",
    "from numpy import random\n",
    "import gensim\n",
    "import nltk\n",
    "from sklearn.model_selection import train_test_split\n",
    "from sklearn.feature_extraction.text import CountVectorizer, TfidfVectorizer\n",
    "from sklearn.metrics import accuracy_score, confusion_matrix\n",
    "import matplotlib.pyplot as plt\n",
    "from nltk.corpus import stopwords\n",
    "import re\n",
    "from bs4 import BeautifulSoup\n",
    "%matplotlib inline\n",
    "\n",
    "df = pd.read_csv('train.csv')\n",
    "# df = df[pd.notnull(df['tags'])]\n",
    "print(df.head(10))\n",
    "print(df['description'].apply(lambda x: len(x.split(' '))).sum())"
   ]
  },
  {
   "cell_type": "code",
   "execution_count": 3,
   "metadata": {},
   "outputs": [
    {
     "name": "stdout",
     "output_type": "stream",
     "text": [
      "Chloe x Halle's debut album 'The Kids Are Alright' featuring Warrior comes out on March 23rd! Pre-order now to get 5 tracks instantly: http://smarturl.it/TKAA?iqid=pseudo\\n\\nAmazon: http://smarturl.it/TKAA/az \\nGoogle Play: http://smarturl.it/TKAA/googleplay \\niTunes: http://smarturl.it/TKAA/itunes \\nSpotify Presave: http://smarturl.it/TKAA/spotifypresave \\n \\nListen now: \\nApple Music: http://smarturl.it/TKAA/applemusic \\nSpotify: http://smarturl.it/TKAA/spotify\\nTidal: http://smarturl.it/TKAA/tidal \\n\\n------\\n\\nFollow Chloe x Halle: \\nhttp://chloexhalle.com\\nhttp://twitter.com/chloexhalle\\nhttp://facebook.com/chloexhalle\\nhttp://instagram.com/chloexhalle\n",
      "Tag: 10.0\n"
     ]
    }
   ],
   "source": [
    "def print_plot(index):\n",
    "    example = df[df.index == index][['description', 'category_id']].values[0]\n",
    "    if len(example) > 0:\n",
    "        print(example[0])\n",
    "        print('Tag:', example[1])\n",
    "\n",
    "print_plot(10)"
   ]
  },
  {
   "cell_type": "code",
   "execution_count": 4,
   "metadata": {},
   "outputs": [
    {
     "name": "stderr",
     "output_type": "stream",
     "text": [
      "[nltk_data] Downloading package stopwords to\n",
      "[nltk_data]     /home/himanshu/nltk_data...\n",
      "[nltk_data]   Package stopwords is already up-to-date!\n"
     ]
    },
    {
     "data": {
      "text/plain": [
       "True"
      ]
     },
     "execution_count": 4,
     "metadata": {},
     "output_type": "execute_result"
    }
   ],
   "source": [
    "import nltk\n",
    "nltk.download('stopwords')"
   ]
  },
  {
   "cell_type": "code",
   "execution_count": 5,
   "metadata": {},
   "outputs": [
    {
     "name": "stderr",
     "output_type": "stream",
     "text": [
      "/home/himanshu/anaconda3/lib/python3.8/site-packages/bs4/__init__.py:414: MarkupResemblesLocatorWarning: \"https://nyti.ms/2q1IjTV\\nhttps://wapo.st/2GvQRgX?tid=ss_tw&utm_term=.6e116c3b2925\\nhttp://www.sacbee.com/news/business/article207909079.html\\nhttps://fxn.ws/2q3Fj9B\" looks like a URL. Beautiful Soup is not an HTTP client. You should probably use an HTTP client like requests to get the document behind the URL, and feed that document to Beautiful Soup.\n",
      "  warnings.warn(\n",
      "/home/himanshu/anaconda3/lib/python3.8/site-packages/bs4/__init__.py:414: MarkupResemblesLocatorWarning: \"http://www.monsterstore.com\\nhttps://www.facebook.com/MonsterProducts/\\nhttps://twitter.com/monsterproducts\\nhttps://www.youtube.com/monsterproducts\\nhttps://www.instagram.com/monsterproducts/\" looks like a URL. Beautiful Soup is not an HTTP client. You should probably use an HTTP client like requests to get the document behind the URL, and feed that document to Beautiful Soup.\n",
      "  warnings.warn(\n",
      "/home/himanshu/anaconda3/lib/python3.8/site-packages/bs4/__init__.py:414: MarkupResemblesLocatorWarning: \"http://bit.ly/VarietySubscribe\\n\\nhttp://www.facebook.com/variety\\nhttp://www.instagram.com/variety\\nhttp://www.twitter.com/variety\" looks like a URL. Beautiful Soup is not an HTTP client. You should probably use an HTTP client like requests to get the document behind the URL, and feed that document to Beautiful Soup.\n",
      "  warnings.warn(\n",
      "/home/himanshu/anaconda3/lib/python3.8/site-packages/bs4/__init__.py:414: MarkupResemblesLocatorWarning: \"https://www.facebook.com/julia.rowland.503/videos/10213754319964724/?hc_ref=ARSK72I2pTCF01TYHq_fWnmX-okrH-80sTRXuuwLXedqxhG4NqGwLA3Q2142CmZrhwE\" looks like a URL. Beautiful Soup is not an HTTP client. You should probably use an HTTP client like requests to get the document behind the URL, and feed that document to Beautiful Soup.\n",
      "  warnings.warn(\n",
      "/home/himanshu/anaconda3/lib/python3.8/site-packages/bs4/__init__.py:414: MarkupResemblesLocatorWarning: \"https://www.gofundme.com/stonemandouglasvictimsfund\" looks like a URL. Beautiful Soup is not an HTTP client. You should probably use an HTTP client like requests to get the document behind the URL, and feed that document to Beautiful Soup.\n",
      "  warnings.warn(\n",
      "/home/himanshu/anaconda3/lib/python3.8/site-packages/bs4/__init__.py:414: MarkupResemblesLocatorWarning: \"https://www.battleforthenet.com/\" looks like a URL. Beautiful Soup is not an HTTP client. You should probably use an HTTP client like requests to get the document behind the URL, and feed that document to Beautiful Soup.\n",
      "  warnings.warn(\n"
     ]
    },
    {
     "name": "stdout",
     "output_type": "stream",
     "text": [
      "thanks watching happy holidays everyone links socials nsocials maddieziegler maddiestyle nmaddie style website maddiestyle nthis holiday sweater maddiestyle holiday sweater nxoxoooo\n",
      "Tag: 24.0\n"
     ]
    },
    {
     "name": "stderr",
     "output_type": "stream",
     "text": [
      "/home/himanshu/anaconda3/lib/python3.8/site-packages/bs4/__init__.py:414: MarkupResemblesLocatorWarning: \"https://www.facebook.com/thekeyboardcat\\nhttp://www.charlieschmidt.com/\" looks like a URL. Beautiful Soup is not an HTTP client. You should probably use an HTTP client like requests to get the document behind the URL, and feed that document to Beautiful Soup.\n",
      "  warnings.warn(\n"
     ]
    }
   ],
   "source": [
    "REPLACE_BY_SPACE_RE = re.compile('[/(){}\\[\\]\\|@,.;]')\n",
    "BAD_SYMBOLS_RE = re.compile('[^0-9a-z #+_]')\n",
    "STOPWORDS = set(stopwords.words('english'))\n",
    "main=set(['http','https','nhttp','n','com','www'])\n",
    "STOPWORDS=STOPWORDS|main\n",
    "\n",
    "def clean_text(text):\n",
    "    \"\"\"\n",
    "        text: a string\n",
    "        \n",
    "        return: modified initial string\n",
    "    \"\"\"\n",
    "    text = BeautifulSoup(text, \"lxml\").text # HTML decoding\n",
    "    text = text.lower() # lowercase text\n",
    "    text = REPLACE_BY_SPACE_RE.sub(' ', text) # replace REPLACE_BY_SPACE_RE symbols by space in text\n",
    "    text = BAD_SYMBOLS_RE.sub(' ', text) # delete symbols which are in BAD_SYMBOLS_RE from text\n",
    "    text = ' '.join(word for word in text.split() if word not in STOPWORDS) # delete stopwors from text\n",
    "    return text\n",
    "    \n",
    "df['description'] = df['description'].apply(clean_text)\n",
    "print_plot(1)"
   ]
  },
  {
   "cell_type": "code",
   "execution_count": 7,
   "metadata": {},
   "outputs": [],
   "source": [
    "txt=\"Революция 1917 года и последовавшие за ней политические, социальные и экономические изменения принесли новую терминологию и значительно увеличили количество международных слов в русском словаре. Реформа орфографии 1918 года придала письменному русскому языку современный вид. Грамотность стала почти всеобщей. Достижения в военной, научной, технологической областях. области искусства, а также освоение космоса придали современной России всемирный престиж, который шел вместе с ее имиджем сверхдержавы.\""
   ]
  },
  {
   "cell_type": "code",
   "execution_count": 9,
   "metadata": {},
   "outputs": [],
   "source": [
    "txt=clean_text(txt)"
   ]
  },
  {
   "cell_type": "code",
   "execution_count": 10,
   "metadata": {},
   "outputs": [
    {
     "data": {
      "text/plain": [
       "'1917 1918'"
      ]
     },
     "execution_count": 10,
     "metadata": {},
     "output_type": "execute_result"
    }
   ],
   "source": [
    "txt"
   ]
  },
  {
   "cell_type": "code",
   "execution_count": 5,
   "metadata": {},
   "outputs": [
    {
     "data": {
      "text/plain": [
       "354885"
      ]
     },
     "execution_count": 5,
     "metadata": {},
     "output_type": "execute_result"
    }
   ],
   "source": [
    "df['description'].apply(lambda x: len(x.split(' '))).sum()"
   ]
  },
  {
   "cell_type": "code",
   "execution_count": 6,
   "metadata": {},
   "outputs": [
    {
     "data": {
      "text/html": [
       "<div>\n",
       "<style scoped>\n",
       "    .dataframe tbody tr th:only-of-type {\n",
       "        vertical-align: middle;\n",
       "    }\n",
       "\n",
       "    .dataframe tbody tr th {\n",
       "        vertical-align: top;\n",
       "    }\n",
       "\n",
       "    .dataframe thead th {\n",
       "        text-align: right;\n",
       "    }\n",
       "</style>\n",
       "<table border=\"1\" class=\"dataframe\">\n",
       "  <thead>\n",
       "    <tr style=\"text-align: right;\">\n",
       "      <th></th>\n",
       "      <th>video_id</th>\n",
       "      <th>category_id</th>\n",
       "      <th>description</th>\n",
       "    </tr>\n",
       "  </thead>\n",
       "  <tbody>\n",
       "    <tr>\n",
       "      <th>0</th>\n",
       "      <td>7NcVNt7zQJM</td>\n",
       "      <td>10.0</td>\n",
       "      <td>music video luke bryan performing nowhere girl...</td>\n",
       "    </tr>\n",
       "    <tr>\n",
       "      <th>1</th>\n",
       "      <td>hNsd-m30m2E</td>\n",
       "      <td>24.0</td>\n",
       "      <td>thanks watching happy holidays everyone links ...</td>\n",
       "    </tr>\n",
       "    <tr>\n",
       "      <th>2</th>\n",
       "      <td>yLdav-8af6g</td>\n",
       "      <td>1.0</td>\n",
       "      <td>marcus adam build custom lightsabers always tw...</td>\n",
       "    </tr>\n",
       "    <tr>\n",
       "      <th>3</th>\n",
       "      <td>Ii3Rr4-Pxow</td>\n",
       "      <td>26.0</td>\n",
       "      <td>make sure subscribe channel hit notification b...</td>\n",
       "    </tr>\n",
       "    <tr>\n",
       "      <th>4</th>\n",
       "      <td>515lLZS082U</td>\n",
       "      <td>24.0</td>\n",
       "      <td>riff pitches get tix unvrs al pp3tix n#pitchpe...</td>\n",
       "    </tr>\n",
       "  </tbody>\n",
       "</table>\n",
       "</div>"
      ],
      "text/plain": [
       "      video_id  category_id                                        description\n",
       "0  7NcVNt7zQJM         10.0  music video luke bryan performing nowhere girl...\n",
       "1  hNsd-m30m2E         24.0  thanks watching happy holidays everyone links ...\n",
       "2  yLdav-8af6g          1.0  marcus adam build custom lightsabers always tw...\n",
       "3  Ii3Rr4-Pxow         26.0  make sure subscribe channel hit notification b...\n",
       "4  515lLZS082U         24.0  riff pitches get tix unvrs al pp3tix n#pitchpe..."
      ]
     },
     "execution_count": 6,
     "metadata": {},
     "output_type": "execute_result"
    }
   ],
   "source": [
    "df.head()"
   ]
  },
  {
   "cell_type": "code",
   "execution_count": 7,
   "metadata": {},
   "outputs": [
    {
     "name": "stdout",
     "output_type": "stream",
     "text": [
      "(3471, 84534)\n",
      "(3471,)\n"
     ]
    }
   ],
   "source": [
    "\n",
    "#Creating the features (tf-idf weights) for the processed text\n",
    "\n",
    "texts = df['description'].astype('str')\n",
    "\n",
    "tfidf_vectorizer = TfidfVectorizer(ngram_range=(1, 2), \n",
    "                                   min_df = 2, \n",
    "                                   max_df = .95)\n",
    "\n",
    "X1 = tfidf_vectorizer.fit_transform(texts) #features\n",
    "y = df['category_id'].values #target\n",
    "\n",
    "print (X1.shape)\n",
    "print(y.shape)"
   ]
  },
  {
   "cell_type": "code",
   "execution_count": null,
   "metadata": {},
   "outputs": [],
   "source": []
  },
  {
   "cell_type": "code",
   "execution_count": 26,
   "metadata": {},
   "outputs": [
    {
     "name": "stdout",
     "output_type": "stream",
     "text": [
      "(3471, 1000)\n"
     ]
    }
   ],
   "source": [
    "# X = df.description\n",
    "lsa = TruncatedSVD(n_components=1000, n_iter=10, random_state=3)\n",
    "X = lsa.fit_transform(X1)\n",
    "print(X.shape)\n",
    "# y = df.category_id\n",
    "# X_train, X_test, y_train, y_test = train_test_split(X, y, test_size=0.3, random_state = 42)"
   ]
  },
  {
   "cell_type": "code",
   "execution_count": 27,
   "metadata": {},
   "outputs": [],
   "source": [
    "X_train, X_test, y_train, y_test = train_test_split(X, y, test_size=0.3, random_state = 42)"
   ]
  },
  {
   "cell_type": "code",
   "execution_count": 28,
   "metadata": {},
   "outputs": [
    {
     "name": "stdout",
     "output_type": "stream",
     "text": [
      "accuracy 0.8426103646833013\n",
      "              precision    recall  f1-score   support\n",
      "\n",
      "         1.0       0.87      0.75      0.80        71\n",
      "         2.0       1.00      0.77      0.87        13\n",
      "        10.0       0.77      0.97      0.86       151\n",
      "        15.0       1.00      0.82      0.90        22\n",
      "        17.0       0.95      0.80      0.87        51\n",
      "        19.0       1.00      0.67      0.80         3\n",
      "        20.0       0.92      0.57      0.71        21\n",
      "        22.0       0.93      0.78      0.84        80\n",
      "        23.0       0.83      0.82      0.83        84\n",
      "        24.0       0.80      0.86      0.83       243\n",
      "        25.0       0.86      0.91      0.89        70\n",
      "        26.0       0.92      0.86      0.89       112\n",
      "        27.0       0.75      0.88      0.81        41\n",
      "        28.0       0.90      0.76      0.82        79\n",
      "        29.0       0.00      0.00      0.00         1\n",
      "        43.0       0.00      0.00      0.00         0\n",
      "\n",
      "    accuracy                           0.84      1042\n",
      "   macro avg       0.78      0.70      0.73      1042\n",
      "weighted avg       0.85      0.84      0.84      1042\n",
      "\n"
     ]
    },
    {
     "name": "stderr",
     "output_type": "stream",
     "text": [
      "/home/himanshu/anaconda3/lib/python3.8/site-packages/sklearn/metrics/_classification.py:1248: UndefinedMetricWarning: Recall and F-score are ill-defined and being set to 0.0 in labels with no true samples. Use `zero_division` parameter to control this behavior.\n",
      "  _warn_prf(average, modifier, msg_start, len(result))\n",
      "/home/himanshu/anaconda3/lib/python3.8/site-packages/sklearn/metrics/_classification.py:1248: UndefinedMetricWarning: Recall and F-score are ill-defined and being set to 0.0 in labels with no true samples. Use `zero_division` parameter to control this behavior.\n",
      "  _warn_prf(average, modifier, msg_start, len(result))\n",
      "/home/himanshu/anaconda3/lib/python3.8/site-packages/sklearn/metrics/_classification.py:1248: UndefinedMetricWarning: Recall and F-score are ill-defined and being set to 0.0 in labels with no true samples. Use `zero_division` parameter to control this behavior.\n",
      "  _warn_prf(average, modifier, msg_start, len(result))\n"
     ]
    }
   ],
   "source": [
    "from sklearn.linear_model import SGDClassifier\n",
    "from sklearn.metrics import classification_report\n",
    "\n",
    "sgd = SGDClassifier(loss='hinge', penalty='l2',alpha=1e-3, random_state=42, max_iter=10, tol=None)\n",
    "sgd.fit(X_train, y_train)\n",
    "\n",
    "# %%time\n",
    "\n",
    "y_pred = sgd.predict(X_test)\n",
    "\n",
    "print('accuracy %s' % accuracy_score(y_pred, y_test))\n",
    "print(classification_report(y_test, y_pred))"
   ]
  },
  {
   "cell_type": "code",
   "execution_count": 30,
   "metadata": {},
   "outputs": [
    {
     "name": "stdout",
     "output_type": "stream",
     "text": [
      "28.0 26.0\n",
      "10.0 23.0\n",
      "10.0 23.0\n",
      "10.0 23.0\n",
      "25.0 28.0\n",
      "24.0 28.0\n",
      "1.0 24.0\n",
      "22.0 24.0\n",
      "10.0 22.0\n",
      "10.0 1.0\n",
      "25.0 22.0\n",
      "26.0 24.0\n",
      "24.0 27.0\n",
      "24.0 28.0\n",
      "23.0 20.0\n",
      "26.0 10.0\n",
      "10.0 22.0\n",
      "10.0 1.0\n",
      "10.0 24.0\n",
      "26.0 28.0\n",
      "10.0 25.0\n",
      "10.0 24.0\n",
      "24.0 1.0\n",
      "23.0 26.0\n",
      "23.0 27.0\n",
      "24.0 17.0\n",
      "10.0 24.0\n",
      "1.0 10.0\n",
      "23.0 24.0\n",
      "10.0 28.0\n",
      "24.0 27.0\n",
      "24.0 26.0\n",
      "24.0 23.0\n",
      "28.0 1.0\n",
      "10.0 28.0\n",
      "24.0 1.0\n",
      "24.0 20.0\n",
      "1.0 27.0\n",
      "10.0 28.0\n",
      "10.0 25.0\n",
      "10.0 24.0\n",
      "24.0 26.0\n",
      "27.0 17.0\n",
      "10.0 15.0\n",
      "24.0 1.0\n",
      "10.0 22.0\n",
      "43.0 28.0\n",
      "24.0 26.0\n",
      "24.0 26.0\n",
      "24.0 28.0\n",
      "24.0 28.0\n",
      "26.0 22.0\n",
      "24.0 2.0\n",
      "22.0 23.0\n",
      "27.0 26.0\n",
      "1.0 20.0\n",
      "24.0 1.0\n",
      "25.0 24.0\n",
      "10.0 17.0\n",
      "10.0 27.0\n",
      "24.0 1.0\n",
      "26.0 24.0\n",
      "23.0 17.0\n",
      "24.0 25.0\n",
      "1.0 24.0\n",
      "27.0 26.0\n",
      "1.0 24.0\n",
      "10.0 24.0\n",
      "24.0 1.0\n",
      "27.0 25.0\n",
      "24.0 17.0\n",
      "10.0 22.0\n",
      "25.0 22.0\n",
      "26.0 28.0\n",
      "24.0 28.0\n",
      "17.0 24.0\n",
      "10.0 26.0\n",
      "20.0 22.0\n",
      "28.0 24.0\n",
      "10.0 26.0\n",
      "10.0 24.0\n",
      "24.0 1.0\n",
      "23.0 24.0\n",
      "1.0 26.0\n",
      "26.0 23.0\n",
      "25.0 1.0\n",
      "10.0 24.0\n",
      "10.0 26.0\n",
      "10.0 1.0\n",
      "23.0 17.0\n",
      "27.0 24.0\n",
      "24.0 20.0\n",
      "24.0 23.0\n",
      "10.0 22.0\n",
      "24.0 22.0\n",
      "23.0 24.0\n",
      "24.0 1.0\n",
      "24.0 26.0\n",
      "24.0 22.0\n",
      "10.0 24.0\n",
      "24.0 1.0\n",
      "24.0 1.0\n",
      "29.0 25.0\n",
      "10.0 28.0\n",
      "24.0 29.0\n",
      "27.0 24.0\n",
      "22.0 20.0\n",
      "10.0 15.0\n",
      "24.0 2.0\n",
      "23.0 24.0\n",
      "25.0 17.0\n",
      "10.0 2.0\n",
      "24.0 23.0\n",
      "10.0 24.0\n",
      "10.0 28.0\n",
      "23.0 22.0\n",
      "27.0 28.0\n",
      "10.0 23.0\n",
      "10.0 24.0\n",
      "27.0 23.0\n",
      "25.0 28.0\n",
      "24.0 1.0\n",
      "27.0 26.0\n",
      "23.0 24.0\n",
      "1.0 20.0\n",
      "22.0 15.0\n",
      "28.0 19.0\n",
      "24.0 22.0\n",
      "10.0 28.0\n",
      "27.0 10.0\n",
      "27.0 22.0\n",
      "10.0 23.0\n",
      "10.0 24.0\n",
      "24.0 20.0\n",
      "10.0 24.0\n",
      "24.0 20.0\n",
      "10.0 23.0\n",
      "24.0 10.0\n",
      "17.0 24.0\n",
      "24.0 1.0\n",
      "24.0 20.0\n",
      "24.0 22.0\n",
      "10.0 28.0\n",
      "28.0 22.0\n",
      "24.0 10.0\n",
      "28.0 23.0\n",
      "24.0 23.0\n",
      "27.0 15.0\n",
      "22.0 24.0\n",
      "25.0 17.0\n",
      "25.0 24.0\n",
      "26.0 24.0\n",
      "25.0 28.0\n",
      "24.0 17.0\n",
      "23.0 24.0\n",
      "24.0 17.0\n",
      "24.0 26.0\n",
      "24.0 25.0\n",
      "28.0 1.0\n",
      "23.0 26.0\n",
      "23.0 22.0\n",
      "10.0 24.0\n",
      "24.0 23.0\n",
      "24.0 22.0\n",
      "count:  164\n"
     ]
    }
   ],
   "source": [
    "count=0\n",
    "for i,x in enumerate(y_pred):\n",
    "    if(x!=y_test[i]):\n",
    "        print(x,y_test[i])\n",
    "        count+=1\n",
    "print(\"count: \",count)"
   ]
  },
  {
   "cell_type": "code",
   "execution_count": null,
   "metadata": {},
   "outputs": [],
   "source": [
    "df_test=pd.read_csv()"
   ]
  },
  {
   "cell_type": "code",
   "execution_count": null,
   "metadata": {},
   "outputs": [],
   "source": []
  },
  {
   "cell_type": "code",
   "execution_count": null,
   "metadata": {},
   "outputs": [],
   "source": []
  },
  {
   "cell_type": "code",
   "execution_count": 20,
   "metadata": {},
   "outputs": [],
   "source": [
    "from sklearn.naive_bayes import MultinomialNB\n",
    "from sklearn.pipeline import Pipeline\n",
    "from sklearn.feature_extraction.text import TfidfTransformer\n",
    "\n",
    "nb = Pipeline([('vect', CountVectorizer()),\n",
    "               ('tfidf', TfidfTransformer()),\n",
    "               ('clf', MultinomialNB()),\n",
    "              ])\n",
    "nb.fit(X_train, y_train)\n",
    "\n",
    "# %%time\n",
    "from sklearn.metrics import classification_report\n",
    "y_pred = nb.predict(X_test)\n",
    "\n",
    "print('accuracy %s' % accuracy_score(y_pred, y_test))\n",
    "print(classification_report(y_test, y_pred))"
   ]
  },
  {
   "cell_type": "code",
   "execution_count": 9,
   "metadata": {},
   "outputs": [
    {
     "name": "stdout",
     "output_type": "stream",
     "text": [
      "accuracy 0.8330134357005758\n",
      "              precision    recall  f1-score   support\n",
      "\n",
      "         1.0       0.86      0.68      0.76        71\n",
      "         2.0       1.00      0.62      0.76        13\n",
      "        10.0       0.79      0.97      0.88       151\n",
      "        15.0       0.95      0.82      0.88        22\n",
      "        17.0       0.93      0.76      0.84        51\n",
      "        19.0       0.50      0.33      0.40         3\n",
      "        20.0       0.92      0.52      0.67        21\n",
      "        22.0       0.94      0.78      0.85        80\n",
      "        23.0       0.83      0.81      0.82        84\n",
      "        24.0       0.78      0.86      0.82       243\n",
      "        25.0       0.86      0.91      0.89        70\n",
      "        26.0       0.83      0.88      0.85       112\n",
      "        27.0       0.82      0.88      0.85        41\n",
      "        28.0       0.89      0.75      0.81        79\n",
      "        29.0       0.00      0.00      0.00         1\n",
      "        43.0       0.00      0.00      0.00         0\n",
      "\n",
      "    accuracy                           0.83      1042\n",
      "   macro avg       0.74      0.66      0.69      1042\n",
      "weighted avg       0.84      0.83      0.83      1042\n",
      "\n"
     ]
    },
    {
     "name": "stderr",
     "output_type": "stream",
     "text": [
      "/home/himanshu/anaconda3/lib/python3.8/site-packages/sklearn/metrics/_classification.py:1248: UndefinedMetricWarning: Precision and F-score are ill-defined and being set to 0.0 in labels with no predicted samples. Use `zero_division` parameter to control this behavior.\n",
      "  _warn_prf(average, modifier, msg_start, len(result))\n",
      "/home/himanshu/anaconda3/lib/python3.8/site-packages/sklearn/metrics/_classification.py:1248: UndefinedMetricWarning: Recall and F-score are ill-defined and being set to 0.0 in labels with no true samples. Use `zero_division` parameter to control this behavior.\n",
      "  _warn_prf(average, modifier, msg_start, len(result))\n",
      "/home/himanshu/anaconda3/lib/python3.8/site-packages/sklearn/metrics/_classification.py:1248: UndefinedMetricWarning: Precision and F-score are ill-defined and being set to 0.0 in labels with no predicted samples. Use `zero_division` parameter to control this behavior.\n",
      "  _warn_prf(average, modifier, msg_start, len(result))\n",
      "/home/himanshu/anaconda3/lib/python3.8/site-packages/sklearn/metrics/_classification.py:1248: UndefinedMetricWarning: Recall and F-score are ill-defined and being set to 0.0 in labels with no true samples. Use `zero_division` parameter to control this behavior.\n",
      "  _warn_prf(average, modifier, msg_start, len(result))\n",
      "/home/himanshu/anaconda3/lib/python3.8/site-packages/sklearn/metrics/_classification.py:1248: UndefinedMetricWarning: Precision and F-score are ill-defined and being set to 0.0 in labels with no predicted samples. Use `zero_division` parameter to control this behavior.\n",
      "  _warn_prf(average, modifier, msg_start, len(result))\n",
      "/home/himanshu/anaconda3/lib/python3.8/site-packages/sklearn/metrics/_classification.py:1248: UndefinedMetricWarning: Recall and F-score are ill-defined and being set to 0.0 in labels with no true samples. Use `zero_division` parameter to control this behavior.\n",
      "  _warn_prf(average, modifier, msg_start, len(result))\n"
     ]
    }
   ],
   "source": [
    "from sklearn.linear_model import SGDClassifier\n",
    "\n",
    "sgd = Pipeline([('vect', CountVectorizer()),\n",
    "                ('tfidf', TfidfTransformer()),\n",
    "                ('clf', SGDClassifier(loss='hinge', penalty='l2',alpha=1e-3, random_state=42, max_iter=10, tol=None)),\n",
    "               ])\n",
    "sgd.fit(X_train, y_train)\n",
    "\n",
    "# %%time\n",
    "\n",
    "y_pred = sgd.predict(X_test)\n",
    "\n",
    "print('accuracy %s' % accuracy_score(y_pred, y_test))\n",
    "print(classification_report(y_test, y_pred))"
   ]
  },
  {
   "cell_type": "code",
   "execution_count": 10,
   "metadata": {},
   "outputs": [
    {
     "name": "stdout",
     "output_type": "stream",
     "text": [
      "accuracy 0.8416506717850288\n",
      "              precision    recall  f1-score   support\n",
      "\n",
      "         1.0       0.94      0.70      0.81        71\n",
      "         2.0       1.00      0.69      0.82        13\n",
      "        10.0       0.88      0.93      0.91       151\n",
      "        15.0       1.00      0.82      0.90        22\n",
      "        17.0       0.95      0.78      0.86        51\n",
      "        19.0       0.67      0.67      0.67         3\n",
      "        20.0       1.00      0.62      0.76        21\n",
      "        22.0       0.84      0.79      0.81        80\n",
      "        23.0       0.67      0.81      0.74        84\n",
      "        24.0       0.76      0.89      0.82       243\n",
      "        25.0       0.94      0.87      0.90        70\n",
      "        26.0       0.93      0.88      0.90       112\n",
      "        27.0       0.94      0.83      0.88        41\n",
      "        28.0       0.85      0.80      0.82        79\n",
      "        29.0       0.00      0.00      0.00         1\n",
      "        43.0       0.00      0.00      0.00         0\n",
      "\n",
      "    accuracy                           0.84      1042\n",
      "   macro avg       0.77      0.69      0.73      1042\n",
      "weighted avg       0.85      0.84      0.84      1042\n",
      "\n"
     ]
    },
    {
     "name": "stderr",
     "output_type": "stream",
     "text": [
      "/home/himanshu/anaconda3/lib/python3.8/site-packages/sklearn/linear_model/_logistic.py:763: ConvergenceWarning: lbfgs failed to converge (status=1):\n",
      "STOP: TOTAL NO. of ITERATIONS REACHED LIMIT.\n",
      "\n",
      "Increase the number of iterations (max_iter) or scale the data as shown in:\n",
      "    https://scikit-learn.org/stable/modules/preprocessing.html\n",
      "Please also refer to the documentation for alternative solver options:\n",
      "    https://scikit-learn.org/stable/modules/linear_model.html#logistic-regression\n",
      "  n_iter_i = _check_optimize_result(\n",
      "/home/himanshu/anaconda3/lib/python3.8/site-packages/sklearn/metrics/_classification.py:1248: UndefinedMetricWarning: Precision and F-score are ill-defined and being set to 0.0 in labels with no predicted samples. Use `zero_division` parameter to control this behavior.\n",
      "  _warn_prf(average, modifier, msg_start, len(result))\n",
      "/home/himanshu/anaconda3/lib/python3.8/site-packages/sklearn/metrics/_classification.py:1248: UndefinedMetricWarning: Recall and F-score are ill-defined and being set to 0.0 in labels with no true samples. Use `zero_division` parameter to control this behavior.\n",
      "  _warn_prf(average, modifier, msg_start, len(result))\n",
      "/home/himanshu/anaconda3/lib/python3.8/site-packages/sklearn/metrics/_classification.py:1248: UndefinedMetricWarning: Precision and F-score are ill-defined and being set to 0.0 in labels with no predicted samples. Use `zero_division` parameter to control this behavior.\n",
      "  _warn_prf(average, modifier, msg_start, len(result))\n",
      "/home/himanshu/anaconda3/lib/python3.8/site-packages/sklearn/metrics/_classification.py:1248: UndefinedMetricWarning: Recall and F-score are ill-defined and being set to 0.0 in labels with no true samples. Use `zero_division` parameter to control this behavior.\n",
      "  _warn_prf(average, modifier, msg_start, len(result))\n",
      "/home/himanshu/anaconda3/lib/python3.8/site-packages/sklearn/metrics/_classification.py:1248: UndefinedMetricWarning: Precision and F-score are ill-defined and being set to 0.0 in labels with no predicted samples. Use `zero_division` parameter to control this behavior.\n",
      "  _warn_prf(average, modifier, msg_start, len(result))\n",
      "/home/himanshu/anaconda3/lib/python3.8/site-packages/sklearn/metrics/_classification.py:1248: UndefinedMetricWarning: Recall and F-score are ill-defined and being set to 0.0 in labels with no true samples. Use `zero_division` parameter to control this behavior.\n",
      "  _warn_prf(average, modifier, msg_start, len(result))\n"
     ]
    }
   ],
   "source": [
    "from sklearn.linear_model import LogisticRegression\n",
    "\n",
    "logreg = Pipeline([('vect', CountVectorizer()),\n",
    "                ('tfidf', TfidfTransformer()),\n",
    "                ('clf', LogisticRegression(n_jobs=1, C=1e5)),\n",
    "               ])\n",
    "logreg.fit(X_train, y_train)\n",
    "\n",
    "# %%time\n",
    "\n",
    "y_pred = logreg.predict(X_test)\n",
    "\n",
    "print('accuracy %s' % accuracy_score(y_pred, y_test))\n",
    "print(classification_report(y_test, y_pred))"
   ]
  },
  {
   "cell_type": "code",
   "execution_count": 15,
   "metadata": {},
   "outputs": [
    {
     "name": "stdout",
     "output_type": "stream",
     "text": [
      "accuracy 0.8032629558541267\n",
      "              precision    recall  f1-score   support\n",
      "\n",
      "         1.0       0.98      0.70      0.82        71\n",
      "         2.0       1.00      0.46      0.63        13\n",
      "        10.0       0.79      0.95      0.86       151\n",
      "        15.0       1.00      0.73      0.84        22\n",
      "        17.0       0.94      0.65      0.77        51\n",
      "        19.0       1.00      0.33      0.50         3\n",
      "        20.0       0.92      0.52      0.67        21\n",
      "        22.0       0.94      0.78      0.85        80\n",
      "        23.0       0.57      0.81      0.67        84\n",
      "        24.0       0.71      0.91      0.80       243\n",
      "        25.0       0.96      0.73      0.83        70\n",
      "        26.0       0.92      0.82      0.87       112\n",
      "        27.0       0.91      0.76      0.83        41\n",
      "        28.0       0.94      0.65      0.77        79\n",
      "        29.0       0.00      0.00      0.00         1\n",
      "        43.0       0.00      0.00      0.00         0\n",
      "\n",
      "    accuracy                           0.80      1042\n",
      "   macro avg       0.79      0.61      0.67      1042\n",
      "weighted avg       0.84      0.80      0.80      1042\n",
      "\n"
     ]
    },
    {
     "name": "stderr",
     "output_type": "stream",
     "text": [
      "/home/himanshu/anaconda3/lib/python3.8/site-packages/sklearn/metrics/_classification.py:1248: UndefinedMetricWarning: Precision and F-score are ill-defined and being set to 0.0 in labels with no predicted samples. Use `zero_division` parameter to control this behavior.\n",
      "  _warn_prf(average, modifier, msg_start, len(result))\n",
      "/home/himanshu/anaconda3/lib/python3.8/site-packages/sklearn/metrics/_classification.py:1248: UndefinedMetricWarning: Recall and F-score are ill-defined and being set to 0.0 in labels with no true samples. Use `zero_division` parameter to control this behavior.\n",
      "  _warn_prf(average, modifier, msg_start, len(result))\n",
      "/home/himanshu/anaconda3/lib/python3.8/site-packages/sklearn/metrics/_classification.py:1248: UndefinedMetricWarning: Precision and F-score are ill-defined and being set to 0.0 in labels with no predicted samples. Use `zero_division` parameter to control this behavior.\n",
      "  _warn_prf(average, modifier, msg_start, len(result))\n",
      "/home/himanshu/anaconda3/lib/python3.8/site-packages/sklearn/metrics/_classification.py:1248: UndefinedMetricWarning: Recall and F-score are ill-defined and being set to 0.0 in labels with no true samples. Use `zero_division` parameter to control this behavior.\n",
      "  _warn_prf(average, modifier, msg_start, len(result))\n",
      "/home/himanshu/anaconda3/lib/python3.8/site-packages/sklearn/metrics/_classification.py:1248: UndefinedMetricWarning: Precision and F-score are ill-defined and being set to 0.0 in labels with no predicted samples. Use `zero_division` parameter to control this behavior.\n",
      "  _warn_prf(average, modifier, msg_start, len(result))\n",
      "/home/himanshu/anaconda3/lib/python3.8/site-packages/sklearn/metrics/_classification.py:1248: UndefinedMetricWarning: Recall and F-score are ill-defined and being set to 0.0 in labels with no true samples. Use `zero_division` parameter to control this behavior.\n",
      "  _warn_prf(average, modifier, msg_start, len(result))\n"
     ]
    }
   ],
   "source": [
    "from sklearn.linear_model import LogisticRegression\n",
    "\n",
    "logreg = Pipeline([('vect', CountVectorizer()),\n",
    "                ('tfidf', TfidfTransformer()),\n",
    "                ('clf',RandomForestClassifier(random_state=42)),\n",
    "               ])\n",
    "logreg.fit(X_train, y_train)\n",
    "\n",
    "# %%time\n",
    "\n",
    "y_pred = logreg.predict(X_test)\n",
    "\n",
    "print('accuracy %s' % accuracy_score(y_pred, y_test))\n",
    "print(classification_report(y_test, y_pred))"
   ]
  },
  {
   "cell_type": "code",
   "execution_count": 16,
   "metadata": {},
   "outputs": [
    {
     "name": "stdout",
     "output_type": "stream",
     "text": [
      "accuracy 0.682341650671785\n",
      "              precision    recall  f1-score   support\n",
      "\n",
      "         1.0       0.67      0.68      0.67        71\n",
      "         2.0       0.64      0.54      0.58        13\n",
      "        10.0       0.77      0.86      0.81       151\n",
      "        15.0       0.81      0.77      0.79        22\n",
      "        17.0       0.77      0.78      0.78        51\n",
      "        19.0       0.29      0.67      0.40         3\n",
      "        20.0       0.67      0.48      0.56        21\n",
      "        22.0       0.57      0.56      0.57        80\n",
      "        23.0       0.52      0.76      0.62        84\n",
      "        24.0       0.65      0.67      0.66       243\n",
      "        25.0       0.70      0.63      0.66        70\n",
      "        26.0       0.76      0.62      0.68       112\n",
      "        27.0       0.80      0.78      0.79        41\n",
      "        28.0       0.85      0.49      0.62        79\n",
      "        29.0       0.00      0.00      0.00         1\n",
      "        43.0       0.00      0.00      0.00         0\n",
      "\n",
      "    accuracy                           0.68      1042\n",
      "   macro avg       0.59      0.58      0.57      1042\n",
      "weighted avg       0.70      0.68      0.68      1042\n",
      "\n"
     ]
    },
    {
     "name": "stderr",
     "output_type": "stream",
     "text": [
      "/home/himanshu/anaconda3/lib/python3.8/site-packages/sklearn/metrics/_classification.py:1248: UndefinedMetricWarning: Precision and F-score are ill-defined and being set to 0.0 in labels with no predicted samples. Use `zero_division` parameter to control this behavior.\n",
      "  _warn_prf(average, modifier, msg_start, len(result))\n",
      "/home/himanshu/anaconda3/lib/python3.8/site-packages/sklearn/metrics/_classification.py:1248: UndefinedMetricWarning: Recall and F-score are ill-defined and being set to 0.0 in labels with no true samples. Use `zero_division` parameter to control this behavior.\n",
      "  _warn_prf(average, modifier, msg_start, len(result))\n",
      "/home/himanshu/anaconda3/lib/python3.8/site-packages/sklearn/metrics/_classification.py:1248: UndefinedMetricWarning: Precision and F-score are ill-defined and being set to 0.0 in labels with no predicted samples. Use `zero_division` parameter to control this behavior.\n",
      "  _warn_prf(average, modifier, msg_start, len(result))\n",
      "/home/himanshu/anaconda3/lib/python3.8/site-packages/sklearn/metrics/_classification.py:1248: UndefinedMetricWarning: Recall and F-score are ill-defined and being set to 0.0 in labels with no true samples. Use `zero_division` parameter to control this behavior.\n",
      "  _warn_prf(average, modifier, msg_start, len(result))\n",
      "/home/himanshu/anaconda3/lib/python3.8/site-packages/sklearn/metrics/_classification.py:1248: UndefinedMetricWarning: Precision and F-score are ill-defined and being set to 0.0 in labels with no predicted samples. Use `zero_division` parameter to control this behavior.\n",
      "  _warn_prf(average, modifier, msg_start, len(result))\n",
      "/home/himanshu/anaconda3/lib/python3.8/site-packages/sklearn/metrics/_classification.py:1248: UndefinedMetricWarning: Recall and F-score are ill-defined and being set to 0.0 in labels with no true samples. Use `zero_division` parameter to control this behavior.\n",
      "  _warn_prf(average, modifier, msg_start, len(result))\n"
     ]
    }
   ],
   "source": [
    "from sklearn.linear_model import LogisticRegression\n",
    "\n",
    "logreg = Pipeline([('vect', CountVectorizer()),\n",
    "                ('tfidf', TfidfTransformer()),\n",
    "                ('clf',KNeighborsClassifier()),\n",
    "               ])\n",
    "logreg.fit(X_train, y_train)\n",
    "\n",
    "# %%time\n",
    "\n",
    "y_pred = logreg.predict(X_test)\n",
    "\n",
    "print('accuracy %s' % accuracy_score(y_pred, y_test))\n",
    "print(classification_report(y_test, y_pred))"
   ]
  },
  {
   "cell_type": "code",
   "execution_count": 17,
   "metadata": {},
   "outputs": [
    {
     "name": "stdout",
     "output_type": "stream",
     "text": [
      "accuracy 0.7293666026871402\n",
      "              precision    recall  f1-score   support\n",
      "\n",
      "         1.0       0.66      0.68      0.67        71\n",
      "         2.0       0.47      0.54      0.50        13\n",
      "        10.0       0.87      0.89      0.88       151\n",
      "        15.0       0.73      0.73      0.73        22\n",
      "        17.0       0.73      0.73      0.73        51\n",
      "        19.0       0.25      0.67      0.36         3\n",
      "        20.0       0.77      0.48      0.59        21\n",
      "        22.0       0.62      0.74      0.67        80\n",
      "        23.0       0.60      0.65      0.62        84\n",
      "        24.0       0.74      0.77      0.75       243\n",
      "        25.0       0.79      0.76      0.77        70\n",
      "        26.0       0.76      0.74      0.75       112\n",
      "        27.0       0.75      0.73      0.74        41\n",
      "        28.0       0.75      0.49      0.60        79\n",
      "        29.0       0.00      0.00      0.00         1\n",
      "\n",
      "    accuracy                           0.73      1042\n",
      "   macro avg       0.63      0.64      0.62      1042\n",
      "weighted avg       0.73      0.73      0.73      1042\n",
      "\n"
     ]
    },
    {
     "name": "stderr",
     "output_type": "stream",
     "text": [
      "/home/himanshu/anaconda3/lib/python3.8/site-packages/sklearn/metrics/_classification.py:1248: UndefinedMetricWarning: Precision and F-score are ill-defined and being set to 0.0 in labels with no predicted samples. Use `zero_division` parameter to control this behavior.\n",
      "  _warn_prf(average, modifier, msg_start, len(result))\n",
      "/home/himanshu/anaconda3/lib/python3.8/site-packages/sklearn/metrics/_classification.py:1248: UndefinedMetricWarning: Precision and F-score are ill-defined and being set to 0.0 in labels with no predicted samples. Use `zero_division` parameter to control this behavior.\n",
      "  _warn_prf(average, modifier, msg_start, len(result))\n",
      "/home/himanshu/anaconda3/lib/python3.8/site-packages/sklearn/metrics/_classification.py:1248: UndefinedMetricWarning: Precision and F-score are ill-defined and being set to 0.0 in labels with no predicted samples. Use `zero_division` parameter to control this behavior.\n",
      "  _warn_prf(average, modifier, msg_start, len(result))\n"
     ]
    }
   ],
   "source": [
    "logreg = Pipeline([('vect', CountVectorizer()),\n",
    "                ('tfidf', TfidfTransformer()),\n",
    "                ('clf', DecisionTreeClassifier(random_state=3)),\n",
    "               ])\n",
    "logreg.fit(X_train, y_train)\n",
    "\n",
    "# %%time\n",
    "\n",
    "y_pred = logreg.predict(X_test)\n",
    "\n",
    "print('accuracy %s' % accuracy_score(y_pred, y_test))\n",
    "print(classification_report(y_test, y_pred))"
   ]
  },
  {
   "cell_type": "code",
   "execution_count": 1,
   "metadata": {},
   "outputs": [],
   "source": [
    "\n",
    "#Dimenionality reduction. Only using the 100 best features er category\n",
    "\n",
    "lsa = TruncatedSVD(n_components=100, \n",
    "                   n_iter=10, \n",
    "                   random_state=3)\n",
    "\n",
    "X = lsa.fit_transform(df.description)\n",
    "X.shape"
   ]
  },
  {
   "cell_type": "code",
   "execution_count": null,
   "metadata": {},
   "outputs": [],
   "source": []
  },
  {
   "cell_type": "code",
   "execution_count": null,
   "metadata": {},
   "outputs": [],
   "source": []
  },
  {
   "cell_type": "code",
   "execution_count": null,
   "metadata": {},
   "outputs": [],
   "source": []
  },
  {
   "cell_type": "code",
   "execution_count": null,
   "metadata": {},
   "outputs": [],
   "source": []
  },
  {
   "cell_type": "code",
   "execution_count": 44,
   "metadata": {},
   "outputs": [
    {
     "data": {
      "text/plain": [
       "'thanks watching happy holidays everyone links socials belownnnsocials maddiezieglern maddiestylennmaddie style website https wwwmaddiestylecomnnthis holiday sweater https wwwmaddiestylecom thisismyholidaysweaternnxoxoooo'"
      ]
     },
     "execution_count": 44,
     "metadata": {},
     "output_type": "execute_result"
    }
   ],
   "source": [
    "df['description'][1]"
   ]
  },
  {
   "cell_type": "code",
   "execution_count": 48,
   "metadata": {},
   "outputs": [
    {
     "name": "stdout",
     "output_type": "stream",
     "text": [
      "thanks watching happy holidays everyone links socials belownnnsocials maddiezieglern maddiestylennmaddie style website https wwwmaddiestylecomnnthis holiday sweater https wwwmaddiestylecom thisismyholidaysweaternnxoxoooo\n",
      "Tag: 24.0\n"
     ]
    }
   ],
   "source": [
    "print_plot(1)"
   ]
  },
  {
   "cell_type": "code",
   "execution_count": 60,
   "metadata": {},
   "outputs": [
    {
     "name": "stdout",
     "output_type": "stream",
     "text": [
      "thanks watching happy holidays everyone links socials belownnnsocials maddiezieglern maddiestylennmaddie style website https wwwmaddiestylecomnnthis holiday sweater https wwwmaddiestylecom thisismyholidaysweaternnxoxoooo\n",
      "Tag: 24.0\n"
     ]
    }
   ],
   "source": [
    "print_plot(1)"
   ]
  },
  {
   "cell_type": "code",
   "execution_count": 125,
   "metadata": {},
   "outputs": [],
   "source": [
    "df1 = pd.read_csv('train.csv')\n",
    "# def print_plot11(index):\n",
    "#     example = df1[df1.index == index][['description', 'category_id']].values[0]\n",
    "#     if len(example) > 0:\n",
    "#         print(example[0])\n",
    "#         print('Tag:', example[1])\n",
    "\n",
    "# print_plot11(10)"
   ]
  },
  {
   "cell_type": "code",
   "execution_count": 153,
   "metadata": {},
   "outputs": [
    {
     "name": "stdout",
     "output_type": "stream",
     "text": [
      "thanks for watching!!! happy holidays everyone!! links and socials below!\\n\\n\\nsocials @maddieziegler\\n@maddiestyle\\n\\nmaddie style website - https://www.maddiestyle.com\\n\\nthis is my holiday sweater - https://www.maddiestyle.com/this-is-my-holiday-sweater\\n\\nxoxoooo\n",
      "Tag: 24.0\n"
     ]
    }
   ],
   "source": [
    "print_plot11(1)"
   ]
  },
  {
   "cell_type": "code",
   "execution_count": 152,
   "metadata": {},
   "outputs": [
    {
     "data": {
      "text/plain": [
       "'thanks watching happy holidays everyone links socials nsocials maddieziegler maddiestyle nmaddie style website maddiestyle nthis holiday sweater maddiestyle holiday sweater nxoxoooo'"
      ]
     },
     "execution_count": 152,
     "metadata": {},
     "output_type": "execute_result"
    }
   ],
   "source": [
    "df1 = pd.read_csv('train.csv')\n",
    "clean_text(df1.description[1])"
   ]
  },
  {
   "cell_type": "code",
   "execution_count": 148,
   "metadata": {},
   "outputs": [
    {
     "data": {
      "text/plain": [
       "'thanks for watching!!! happy holidays everyone!! links and socials below!\\\\n\\\\n\\\\nsocials @maddieziegler\\\\n@maddiestyle\\\\n\\\\nmaddie style website - https://www.maddiestyle.com\\\\n\\\\nthis is my holiday sweater - https://www.maddiestyle.com/this-is-my-holiday-sweater\\\\n\\\\nxoxoooo'"
      ]
     },
     "execution_count": 148,
     "metadata": {},
     "output_type": "execute_result"
    }
   ],
   "source": [
    "df1.description[1]"
   ]
  },
  {
   "cell_type": "code",
   "execution_count": null,
   "metadata": {},
   "outputs": [],
   "source": []
  },
  {
   "cell_type": "code",
   "execution_count": null,
   "metadata": {},
   "outputs": [],
   "source": []
  },
  {
   "cell_type": "code",
   "execution_count": 14,
   "metadata": {},
   "outputs": [
    {
     "data": {
      "text/html": [
       "<style>.container { width:95% !important; }</style>"
      ],
      "text/plain": [
       "<IPython.core.display.HTML object>"
      ]
     },
     "metadata": {},
     "output_type": "display_data"
    }
   ],
   "source": [
    "\n",
    "'''Features'''\n",
    "from sklearn.preprocessing import LabelEncoder\n",
    "from sklearn.feature_extraction.text import TfidfVectorizer\n",
    "from sklearn.decomposition import TruncatedSVD\n",
    "from sklearn.preprocessing import label_binarize\n",
    "\n",
    "'''Classifiers'''\n",
    "from sklearn.dummy import DummyClassifier\n",
    "from sklearn.linear_model import SGDClassifier\n",
    "from sklearn.naive_bayes import GaussianNB\n",
    "from sklearn.tree import DecisionTreeClassifier\n",
    "from sklearn.ensemble import RandomForestClassifier, AdaBoostClassifier\n",
    "from sklearn.neighbors import KNeighborsClassifier\n",
    "from sklearn.multiclass import OneVsRestClassifier\n",
    "\n",
    "'''Metrics/Evaluation'''\n",
    "from sklearn.model_selection import train_test_split\n",
    "from sklearn.model_selection import GridSearchCV\n",
    "from sklearn.metrics import accuracy_score, precision_score, recall_score, f1_score, roc_curve, auc, confusion_matrix\n",
    "from scipy import interp\n",
    "from itertools import cycle\n",
    "\n",
    "'''Plotting'''\n",
    "import matplotlib.pyplot as plt\n",
    "import seaborn as sns\n",
    "sns.set_style('darkgrid')\n",
    "\n",
    "'''Display'''\n",
    "from IPython.core.display import display, HTML\n",
    "display(HTML(\"<style>.container { width:95% !important; }</style>\"))\n",
    "import warnings"
   ]
  },
  {
   "cell_type": "code",
   "execution_count": 10,
   "metadata": {},
   "outputs": [],
   "source": [
    "texts = df['description'].astype('str')\n",
    "\n",
    "tfidf_vectorizer = TfidfVectorizer(ngram_range=(1, 2), \n",
    "                                   min_df = 2, \n",
    "                                   max_df = .95)\n",
    "\n",
    "X = tfidf_vectorizer.fit_transform(texts) #features\n",
    "y = df['category_id'].values #target\n",
    "X=X.toarray()"
   ]
  },
  {
   "cell_type": "code",
   "execution_count": 11,
   "metadata": {},
   "outputs": [
    {
     "data": {
      "text/plain": [
       "array([[0., 0., 0., ..., 0., 0., 0.],\n",
       "       [0., 0., 0., ..., 0., 0., 0.],\n",
       "       [0., 0., 0., ..., 0., 0., 0.],\n",
       "       ...,\n",
       "       [0., 0., 0., ..., 0., 0., 0.],\n",
       "       [0., 0., 0., ..., 0., 0., 0.],\n",
       "       [0., 0., 0., ..., 0., 0., 0.]])"
      ]
     },
     "execution_count": 11,
     "metadata": {},
     "output_type": "execute_result"
    }
   ],
   "source": [
    "X"
   ]
  },
  {
   "cell_type": "code",
   "execution_count": null,
   "metadata": {},
   "outputs": [],
   "source": []
  },
  {
   "cell_type": "code",
   "execution_count": null,
   "metadata": {},
   "outputs": [
    {
     "name": "stderr",
     "output_type": "stream",
     "text": [
      "/home/himanshu/anaconda3/lib/python3.8/site-packages/sklearn/metrics/_classification.py:1248: UndefinedMetricWarning: Precision is ill-defined and being set to 0.0 in labels with no predicted samples. Use `zero_division` parameter to control this behavior.\n",
      "  _warn_prf(average, modifier, msg_start, len(result))\n"
     ]
    }
   ],
   "source": [
    "#Creating a dict of the models\n",
    "model_dict = {#'Dummy' : DummyClassifier(random_state=3),\n",
    "              'Stochastic Gradient Descent' : SGDClassifier(random_state=3, loss='log'),\n",
    "              'Random Forest': RandomForestClassifier(random_state=3),\n",
    "              'Decsision Tree': DecisionTreeClassifier(random_state=3),\n",
    "#               'AdaBoost': AdaBoostClassifier(random_state=3),\n",
    "#               'Gaussian Naive Bayes': GaussianNB(),\n",
    "              'K Nearest Neighbor': KNeighborsClassifier()}\n",
    "\n",
    "# Train test split with stratified sampling for evaluation\n",
    "X_train, X_test, y_train, y_test = train_test_split(X, \n",
    "                                                    y, \n",
    "                                                    test_size = .3, \n",
    "                                                    shuffle = True, \n",
    "                                                    stratify = y, \n",
    "                                                    random_state = 3)\n",
    "\n",
    "#Function to get the scores for each model in a df\n",
    "def model_score_df(model_dict):   \n",
    "    model_name, ac_score_list, p_score_list, r_score_list, f1_score_list = [], [], [], [], []\n",
    "    for k,v in model_dict.items():   \n",
    "        model_name.append(k)\n",
    "        v.fit(X_train, y_train)\n",
    "        y_pred = v.predict(X_test)\n",
    "        ac_score_list.append(accuracy_score(y_test, y_pred))\n",
    "        p_score_list.append(precision_score(y_test, y_pred, average='macro'))\n",
    "        r_score_list.append(recall_score(y_test, y_pred, average='macro'))\n",
    "        f1_score_list.append(f1_score(y_test, y_pred, average='macro'))\n",
    "        model_comparison_df = pd.DataFrame([model_name, ac_score_list, p_score_list, r_score_list, f1_score_list]).T\n",
    "        model_comparison_df.columns = ['model_name', 'accuracy_score', 'precision_score', 'recall_score', 'f1_score']\n",
    "        model_comparison_df = model_comparison_df.sort_values(by='f1_score', ascending=False)\n",
    "    return model_comparison_df\n",
    "\n",
    "model_score_df(model_dict)"
   ]
  },
  {
   "cell_type": "code",
   "execution_count": null,
   "metadata": {},
   "outputs": [],
   "source": []
  },
  {
   "cell_type": "code",
   "execution_count": null,
   "metadata": {},
   "outputs": [],
   "source": []
  },
  {
   "cell_type": "code",
   "execution_count": 11,
   "metadata": {},
   "outputs": [],
   "source": [
    "REPLACE_BY_SPACE_RE = re.compile('[/(){}\\[\\]\\|@,.;]')\n",
    "BAD_SYMBOLS_RE = re.compile('[^0-9a-z #+_]')\n",
    "# STOPWORDS = set(stopwords.words('english'))\n",
    "# main=set(['http','https','nhttp','n','com','www'])\n",
    "# STOPWORDS=STOPWORDS|main\n",
    "\n",
    "def clean_text(text):\n",
    "    \"\"\"\n",
    "        text: a string\n",
    "        \n",
    "        return: modified initial string\n",
    "    \"\"\"\n",
    "#     text = BeautifulSoup(text, \"lxml\").text # HTML decoding\n",
    "#     text = text.lower() # lowercase text\n",
    "    text = REPLACE_BY_SPACE_RE.sub(' ', text) # replace REPLACE_BY_SPACE_RE symbols by space in text\n",
    "    text = BAD_SYMBOLS_RE.sub(' ', text) # delete symbols which are in BAD_SYMBOLS_RE from text\n",
    "#     text = ' '.join(word for word in text.split() if word not in STOPWORDS) # delete stopwors from text\n",
    "    return text\n",
    "    \n",
    "# df['description'] = df['description'].apply(clean_text)\n",
    "# print_plot(1)"
   ]
  },
  {
   "cell_type": "code",
   "execution_count": 16,
   "metadata": {},
   "outputs": [],
   "source": [
    "txt=\"Революция 1917 года и последовавшие за ней политические, социальные и экономические изменения принесли новую терминологию и значительно увеличили количество международных слов в русском словаре. Реформа орфографии 1918 года придала письменному русскому языку современный вид. Грамотность стала почти всеобщей. Достижения в военной, научной, технологической областях. области искусства, а также освоение космоса придали современной России всемирный престиж, который шел вместе с ее имиджем сверхдержавы.\""
   ]
  },
  {
   "cell_type": "code",
   "execution_count": 17,
   "metadata": {},
   "outputs": [],
   "source": [
    "txt=clean_text(txt)"
   ]
  },
  {
   "cell_type": "code",
   "execution_count": 18,
   "metadata": {},
   "outputs": [
    {
     "data": {
      "text/plain": [
       "'          1917                                                                                                                                                                                                        1918                                                                                                                                                                                                                                                                                            '"
      ]
     },
     "execution_count": 18,
     "metadata": {},
     "output_type": "execute_result"
    }
   ],
   "source": [
    "txt"
   ]
  },
  {
   "cell_type": "code",
   "execution_count": null,
   "metadata": {},
   "outputs": [],
   "source": []
  }
 ],
 "metadata": {
  "kernelspec": {
   "display_name": "Python 3",
   "language": "python",
   "name": "python3"
  },
  "language_info": {
   "codemirror_mode": {
    "name": "ipython",
    "version": 3
   },
   "file_extension": ".py",
   "mimetype": "text/x-python",
   "name": "python",
   "nbconvert_exporter": "python",
   "pygments_lexer": "ipython3",
   "version": "3.8.3"
  }
 },
 "nbformat": 4,
 "nbformat_minor": 4
}
